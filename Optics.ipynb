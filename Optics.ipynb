{
 "cells": [
  {
   "cell_type": "markdown",
   "metadata": {},
   "source": [
    "# Optics"
   ]
  },
  {
   "cell_type": "markdown",
   "metadata": {},
   "source": [
    "### Import modules"
   ]
  },
  {
   "cell_type": "code",
   "execution_count": null,
   "metadata": {
    "ExecuteTime": {
     "end_time": "2019-08-13T14:47:06.205695Z",
     "start_time": "2019-08-13T14:47:05.268632Z"
    }
   },
   "outputs": [],
   "source": [
    "%pylab inline\n",
    "import glidertools as gt\n",
    "import xarray as xr # for file I/O\n",
    "from cmocean import cm as cmo  # we use this for colormaps\n",
    "import warnings\n",
    "warnings.simplefilter(\"ignore\")"
   ]
  },
  {
   "cell_type": "markdown",
   "metadata": {},
   "source": [
    "### Loading data\n",
    "\n",
    "Here we load the dataset we made in the `importing glider data` notebook"
   ]
  },
  {
   "cell_type": "code",
   "execution_count": null,
   "metadata": {},
   "outputs": [],
   "source": [
    "try:\n",
    "    dat = xr.open_dataset('physics_processed.nc')\n",
    "except FileNotFoundError:\n",
    "    print('data not found, please run importing glider data notebook first')"
   ]
  },
  {
   "cell_type": "code",
   "execution_count": null,
   "metadata": {},
   "outputs": [],
   "source": [
    "dat"
   ]
  },
  {
   "cell_type": "code",
   "execution_count": null,
   "metadata": {},
   "outputs": [],
   "source": [
    "# variable assignment for conveniant access\n",
    "depth = dat.depth\n",
    "dives = dat.dives\n",
    "lats = dat.latitude\n",
    "lons = dat.longitude\n",
    "time = dat.time\n",
    "pres = dat.pressure\n",
    "# We use the QC'd temperature and salinity\n",
    "temp = dat.temp_qc\n",
    "salt = dat.salt_qc\n",
    "par = dat.par_raw\n",
    "bb700 = dat.bb700_raw\n",
    "bb470 = dat.bb470_raw\n",
    "fluor = dat.flr_raw\n",
    "\n",
    "# name coordinates for quicker plotting\n",
    "x = dat.dives\n",
    "y = dat.depth"
   ]
  },
  {
   "cell_type": "markdown",
   "metadata": {
    "ExecuteTime": {
     "end_time": "2019-07-09T20:46:17.965409Z",
     "start_time": "2019-07-09T20:46:17.933556Z"
    }
   },
   "source": [
    "### Backscatter"
   ]
  },
  {
   "cell_type": "code",
   "execution_count": null,
   "metadata": {
    "ExecuteTime": {
     "end_time": "2019-08-13T14:41:40.387001Z",
     "start_time": "2019-08-13T14:41:39.380357Z"
    }
   },
   "outputs": [],
   "source": [
    "theta = 124\n",
    "xfactor = 1.076 \n",
    "\n",
    "gt.plot(x, y, bb700, cmap=cmo.delta, vmin=60, vmax=200)\n",
    "title('Original Data')\n",
    "show()"
   ]
  },
  {
   "cell_type": "markdown",
   "metadata": {},
   "source": [
    "#### Outlier bounds method "
   ]
  },
  {
   "cell_type": "code",
   "execution_count": null,
   "metadata": {
    "ExecuteTime": {
     "end_time": "2019-08-13T14:41:42.413029Z",
     "start_time": "2019-08-13T14:41:40.388696Z"
    }
   },
   "outputs": [],
   "source": [
    "bb700_iqr = gt.cleaning.outlier_bounds_iqr(bb700, multiplier=2)\n",
    "bb700_std = gt.cleaning.outlier_bounds_std(bb700, multiplier=2)\n",
    "\n",
    "fig, ax = plt.subplots(2, 1, figsize=[9, 6], sharex=True, dpi=90)\n",
    "\n",
    "gt.plot(x, y, bb700_iqr, cmap=cmo.delta, ax=ax[0], vmin=60, vmax=200)\n",
    "gt.plot(x, y, bb700_std, cmap=cmo.delta, ax=ax[1], vmin=60, vmax=200)\n",
    "\n",
    "[a.set_xlabel('') for a in ax]\n",
    "\n",
    "ax[0].set_title('Outlier IQR')\n",
    "ax[1].set_title('Outlier STD');"
   ]
  },
  {
   "cell_type": "markdown",
   "metadata": {},
   "source": [
    "#### Removing bad profiles\n",
    "This function masks bad dives based on mean + std x [1] or median + std x [1] at a reference depth."
   ]
  },
  {
   "cell_type": "code",
   "execution_count": null,
   "metadata": {
    "ExecuteTime": {
     "end_time": "2019-08-13T14:41:44.364392Z",
     "start_time": "2019-08-13T14:41:42.414418Z"
    }
   },
   "outputs": [],
   "source": [
    "# find_bad_profiles returns boolean mask and dive numbers\n",
    "# we index only the mask\n",
    "bad_profiles = gt.optics.find_bad_profiles(dives, depth, bb700, \n",
    "                                           ref_depth=300, \n",
    "                                           stdev_multiplier=1, \n",
    "                                           method='median')[0]\n",
    "\n",
    "fig, ax = plt.subplots(2, 1, figsize=[9, 6], sharex=True, dpi=90)\n",
    "# ~ reverses True to False and vice versa - i.e. we mask bad bad profiles\n",
    "gt.plot(x, y, bb700, cmap=cmo.delta, ax=ax[0], vmin=60, vmax=200)\n",
    "gt.plot(x, y, bb700.where(~bad_profiles), cmap=cmo.delta, ax=ax[1], vmin=60, vmax=200)\n",
    "\n",
    "[a.set_xlabel('') for a in ax]\n",
    "\n",
    "ax[0].set_title('All backscatter data')\n",
    "ax[1].set_title('Bad profiles masked')"
   ]
  },
  {
   "cell_type": "markdown",
   "metadata": {},
   "source": [
    "#### Conversion from counts to total backscatter \n",
    "\n",
    "The scale and offset function uses the factory calibration dark count and scale factor.\n",
    "\n",
    "The bback total function uses the coefficients from Zhang et al. (2009) to convert the raw counts into total backscatter (m-1), correcting for temperature and salinity. The $\\chi$ factor and $\\theta$ in this example were taken from Sullivan et al. (2013) and Slade & Boss (2015). "
   ]
  },
  {
   "cell_type": "code",
   "execution_count": null,
   "metadata": {
    "ExecuteTime": {
     "end_time": "2019-08-13T14:41:46.389996Z",
     "start_time": "2019-08-13T14:41:44.365771Z"
    }
   },
   "outputs": [],
   "source": [
    "beta = gt.flo_functions.flo_scale_and_offset(bb700.where(~bad_profiles), 49, 3.217e-5)\n",
    "bbp = gt.flo_functions.flo_bback_total(beta, temp, salt, theta, 700, xfactor)\n",
    "\n",
    "fig, ax = plt.subplots(2, 1, figsize=[9, 6], sharex=True, dpi=90)\n",
    "\n",
    "gt.plot(x, y, beta, cmap=cmo.delta, ax=ax[0], robust=True)\n",
    "gt.plot(x, y, bbp, cmap=cmo.delta, ax=ax[1], robust=True)\n",
    "\n",
    "[a.set_xlabel('') for a in ax]\n",
    "[a.set_ylim(400, 0) for a in ax]\n",
    "\n",
    "ax[0].set_title('$\\u03B2$')\n",
    "ax[1].set_title('b$_{bp}$ (m$^{-1}$)');"
   ]
  },
  {
   "cell_type": "markdown",
   "metadata": {},
   "source": [
    "#### Correcting for an in situ dark count\n",
    "Sensor drift from factory calibration requires an additional correction, the calculation of a dark count in situ. This is calculated from the 95th percentile of backscatter measurements between 200 and 400m."
   ]
  },
  {
   "cell_type": "code",
   "execution_count": null,
   "metadata": {
    "ExecuteTime": {
     "end_time": "2019-08-13T14:41:47.578719Z",
     "start_time": "2019-08-13T14:41:46.391456Z"
    }
   },
   "outputs": [],
   "source": [
    "bbp = gt.optics.backscatter_dark_count(bbp, depth)\n",
    "\n",
    "gt.plot(x, y, bbp, cmap=cmo.delta, robust=True)\n",
    "title('b$_{bp}$ (m$^{-1}$)');"
   ]
  },
  {
   "cell_type": "markdown",
   "metadata": {},
   "source": [
    "#### Despiking\n",
    "Following the methods outlined in Briggs et al. (2011) to both identify spikes in backscatter and remove them from the baseline backscatter signal. The spikes are retained as the data can be used to address specific science questions, but their presence can decrease the accuracy of the fluorescence quenching function."
   ]
  },
  {
   "cell_type": "code",
   "execution_count": null,
   "metadata": {
    "ExecuteTime": {
     "end_time": "2019-08-13T14:41:52.587989Z",
     "start_time": "2019-08-13T14:41:49.727611Z"
    }
   },
   "outputs": [],
   "source": [
    "bbp_horz = gt.cleaning.horizontal_diff_outliers(x, y, bbp, depth_threshold=10, mask_frac=0.05)\n",
    "bbp_baseline, bbp_spikes = gt.cleaning.despike(bbp_horz, 7, spike_method='minmax')\n",
    "\n",
    "\n",
    "fig, ax = plt.subplots(2, 1, figsize=[9, 6], sharex=True, dpi=90)\n",
    "\n",
    "gt.plot(x, y, bbp_baseline, cmap=cmo.delta, ax=ax[0], robust=True)\n",
    "gt.plot(x, y, bbp_spikes, ax=ax[1], cmap=cm.Spectral_r, vmin=0, vmax=0.004)\n",
    "\n",
    "[a.set_xlabel('') for a in ax]\n",
    "\n",
    "ax[0].set_title('Despiked b$_{bp}$ (m$^{-1}$)')\n",
    "ax[1].set_title('b$_{bp}$ (m$^{-1}$) spikes')"
   ]
  },
  {
   "cell_type": "markdown",
   "metadata": {},
   "source": [
    "#### Adding the corrected variables to the original dataframe "
   ]
  },
  {
   "cell_type": "code",
   "execution_count": null,
   "metadata": {
    "ExecuteTime": {
     "end_time": "2019-08-13T14:41:52.596996Z",
     "start_time": "2019-08-13T14:41:52.589749Z"
    }
   },
   "outputs": [],
   "source": [
    "dat['bbp700'] = bbp_baseline\n",
    "dat['bbp700_spikes'] = bbp_spikes"
   ]
  },
  {
   "cell_type": "markdown",
   "metadata": {},
   "source": [
    "#### Wrapper function demonstration\n",
    "A wrapper function was also designed, which is demonstrated below with the second wavelength (700 nm). The default option is for verbose to be True, which will provide an output of the different processing steps."
   ]
  },
  {
   "cell_type": "code",
   "execution_count": null,
   "metadata": {
    "ExecuteTime": {
     "end_time": "2019-08-13T14:41:53.881602Z",
     "start_time": "2019-08-13T14:41:52.598718Z"
    }
   },
   "outputs": [],
   "source": [
    "bbp_baseline, bbp_spikes = gt.calc_backscatter(\n",
    "    bb700, temp, salt, dives, depth, 700, 49, 3.217e-5, \n",
    "    spike_window=11, spike_method='minmax', iqr=2., profiles_ref_depth=300,\n",
    "    deep_multiplier=1, deep_method='median', verbose=True)\n",
    "\n",
    "dat['bbp700'] = bbp_baseline\n",
    "dat['bbp700_spikes'] = bbp_spikes\n",
    "\n",
    "ax = gt.plot(x, y, dat.bbp700, cmap=cmo.delta);"
   ]
  },
  {
   "cell_type": "code",
   "execution_count": null,
   "metadata": {
    "ExecuteTime": {
     "end_time": "2019-08-13T14:41:55.101535Z",
     "start_time": "2019-08-13T14:41:53.883989Z"
    }
   },
   "outputs": [],
   "source": [
    "bbp_baseline, bbp_spikes = gt.calc_backscatter(\n",
    "    bb470, temp, salt, dives, depth, 470, 47, 1.569e-5, \n",
    "    spike_window=7, spike_method='minmax', iqr=3, profiles_ref_depth=300,\n",
    "    deep_multiplier=1, deep_method='median', verbose=False)\n",
    "\n",
    "dat['bbp470'] = bbp_baseline\n",
    "dat['bbp470_spikes'] = bbp_spikes"
   ]
  },
  {
   "cell_type": "markdown",
   "metadata": {},
   "source": [
    "### PAR"
   ]
  },
  {
   "cell_type": "markdown",
   "metadata": {},
   "source": [
    "#### PAR Scaling\n",
    "\n",
    "This function uses the factory calibration to convert from $\\mu$V to $\\mu$E m$^{-2}$ s$^{-1}$."
   ]
  },
  {
   "cell_type": "code",
   "execution_count": null,
   "metadata": {
    "ExecuteTime": {
     "end_time": "2019-08-13T14:41:57.062728Z",
     "start_time": "2019-08-13T14:41:55.103296Z"
    }
   },
   "outputs": [],
   "source": [
    "par_scaled = gt.optics.par_scaling(par, 6.202e-4, 10.8)\n",
    "\n",
    "fig, ax = plt.subplots(2, 1, figsize=[9, 6], sharex=True, dpi=90)\n",
    "\n",
    "gt.plot(x, y, par, cmap=cmo.solar, ax=ax[0], robust=True)\n",
    "gt.plot(x, y, par_scaled, cmap=cmo.solar, ax=ax[1], robust=True)\n",
    "\n",
    "[a.set_xlabel('') for a in ax]\n",
    "[a.set_ylim(70, 0) for a in ax]\n",
    "\n",
    "ax[0].set_title('PAR ($\\mu$V)')\n",
    "ax[1].set_title('PAR ($\\mu$E m$^{-2}$ m$^{-1}$)');"
   ]
  },
  {
   "cell_type": "markdown",
   "metadata": {},
   "source": [
    "#### Correcting for an in situ dark count\n",
    "\n",
    "Sensor drift from factory calibration requires an additional correction, the calculation of a dark count in situ. This is calculated from the median of PAR measurements, with additional masking applied for values before 23:01 and outside the 90th percentile."
   ]
  },
  {
   "cell_type": "code",
   "execution_count": null,
   "metadata": {
    "ExecuteTime": {
     "end_time": "2019-08-13T14:41:58.082117Z",
     "start_time": "2019-08-13T14:41:57.064461Z"
    }
   },
   "outputs": [],
   "source": [
    "par_dark = gt.optics.par_dark_count(par_scaled, dives, depth, time)\n",
    "\n",
    "gt.plot(x, y, par_dark, robust=True, cmap=cmo.solar)\n",
    "ylim(70,0)\n",
    "title('PAR ($\\mu$E m$^{-2}$ m$^{-1}$)');"
   ]
  },
  {
   "cell_type": "markdown",
   "metadata": {},
   "source": [
    "#### PAR replacement\n",
    "\n",
    "This function removes the top 5 metres from each dive profile, and then algebraically recalculates the surface PAR using an exponential equation."
   ]
  },
  {
   "cell_type": "code",
   "execution_count": null,
   "metadata": {
    "ExecuteTime": {
     "end_time": "2019-08-13T14:41:58.752379Z",
     "start_time": "2019-08-13T14:41:58.083747Z"
    }
   },
   "outputs": [],
   "source": [
    "par_filled = gt.optics.par_fill_surface(par_dark, dives, depth, max_curve_depth=80)\n",
    "par_filled[par_filled < 0] = 0\n",
    "par_filled = par_filled.fillna(0)"
   ]
  },
  {
   "cell_type": "code",
   "execution_count": null,
   "metadata": {
    "ExecuteTime": {
     "end_time": "2019-08-13T14:41:59.108882Z",
     "start_time": "2019-08-13T14:41:58.755467Z"
    }
   },
   "outputs": [],
   "source": [
    "i = dives == 313\n",
    "\n",
    "fig, ax = subplots(1, 2, figsize=[6,6], dpi=100)\n",
    "\n",
    "ax[0].plot(par_dark[i], depth[i], lw=0.5, marker='o', ms=5)\n",
    "ax[0].plot(par_filled[i], depth[i], lw=0.5, marker='o', ms=3)\n",
    "ax[1].plot(par_filled[i] - par_dark[i], depth[i], lw=0, marker='o')\n",
    "\n",
    "ax[0].set_ylim(80,0)\n",
    "ax[0].set_ylabel('Depth (m)')\n",
    "ax[0].set_xlabel('PAR ($\\mu$E m$^{-2}$ m$^{-1}$)')\n",
    "\n",
    "ax[1].set_ylim(80,0)\n",
    "ax[1].set_xlim(-350,350)\n",
    "ax[1].set_yticklabels('')\n",
    "ax[1].set_xlabel('Difference between profiles')\n",
    "\n",
    "fig.tight_layout()\n",
    "plt.show()"
   ]
  },
  {
   "cell_type": "code",
   "execution_count": null,
   "metadata": {
    "ExecuteTime": {
     "end_time": "2019-08-13T14:41:59.981184Z",
     "start_time": "2019-08-13T14:41:59.110859Z"
    }
   },
   "outputs": [],
   "source": [
    "gt.plot(x, y, par_filled, robust=True, cmap=cmo.solar)\n",
    "ylim(100,0)\n",
    "title('PAR ($\\mu$E m$^{-2}$ m$^{-1}$)')\n",
    "show()"
   ]
  },
  {
   "cell_type": "markdown",
   "metadata": {},
   "source": [
    "#### Wrapper function demonstration "
   ]
  },
  {
   "cell_type": "code",
   "execution_count": null,
   "metadata": {
    "ExecuteTime": {
     "end_time": "2019-08-13T14:42:01.330935Z",
     "start_time": "2019-08-13T14:41:59.997643Z"
    }
   },
   "outputs": [],
   "source": [
    "par_qc = gt.calc_par(par, dives, depth, time, \n",
    "                     6.202e-4, 10.8, \n",
    "                     curve_max_depth=80, \n",
    "                     verbose=True).fillna(0)\n",
    "\n",
    "gt.plot(x, y, par_qc, robust=True, cmap=cmo.solar)\n",
    "ylim(80, 0)\n",
    "show()"
   ]
  },
  {
   "cell_type": "markdown",
   "metadata": {},
   "source": [
    "### Deriving additional variables"
   ]
  },
  {
   "cell_type": "markdown",
   "metadata": {},
   "source": [
    "#### Euphotic Depth and Light attenuation coefficient "
   ]
  },
  {
   "cell_type": "code",
   "execution_count": null,
   "metadata": {
    "ExecuteTime": {
     "end_time": "2019-08-13T14:42:04.873858Z",
     "start_time": "2019-08-13T14:42:02.023332Z"
    }
   },
   "outputs": [],
   "source": [
    "euphotic_depth, kd = gt.optics.photic_depth(par_filled, dives, depth, return_mask=False, ref_percentage=1)"
   ]
  },
  {
   "cell_type": "code",
   "execution_count": null,
   "metadata": {
    "ExecuteTime": {
     "end_time": "2019-08-13T14:42:05.069184Z",
     "start_time": "2019-08-13T14:42:04.878093Z"
    }
   },
   "outputs": [],
   "source": [
    "fig, ax = subplots(1, 1, figsize=[6,4], dpi=100)\n",
    "p1 = plot(euphotic_depth.index, euphotic_depth, label='Euphotic Depth')\n",
    "ylim(120,0)\n",
    "ylabel('Euphotic Depth (m)')\n",
    "xlabel('Dives')\n",
    "ax2 = ax.twinx()\n",
    "p2 = plot(kd.index, kd, color='orange', lw=0, marker='o', ms=2, label='K$_d$')\n",
    "ylabel('K$_d$', rotation=270, labelpad=20)\n",
    "\n",
    "lns = p1+p2\n",
    "labs = [l.get_label() for l in lns]\n",
    "ax2.legend(lns, labs, loc=3, numpoints=1);"
   ]
  }
 ],
 "metadata": {
  "hide_input": false,
  "kernelspec": {
   "display_name": "Python 3",
   "language": "python",
   "name": "python3"
  },
  "language_info": {
   "codemirror_mode": {
    "name": "ipython",
    "version": 3
   },
   "file_extension": ".py",
   "mimetype": "text/x-python",
   "name": "python",
   "nbconvert_exporter": "python",
   "pygments_lexer": "ipython3",
   "version": "3.9.4"
  },
  "toc": {
   "base_numbering": 1,
   "nav_menu": {
    "height": "136px",
    "width": "252px"
   },
   "number_sections": false,
   "sideBar": true,
   "skip_h1_title": false,
   "title_cell": "Table of Contents",
   "title_sidebar": "Contents",
   "toc_cell": true,
   "toc_position": {
    "height": "260px",
    "left": "1078.99px",
    "right": "20px",
    "top": "-14.0069px",
    "width": "313px"
   },
   "toc_section_display": true,
   "toc_window_display": true
  }
 },
 "nbformat": 4,
 "nbformat_minor": 4
}
